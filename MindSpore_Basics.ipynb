{
 "cells": [
  {
   "cell_type": "code",
   "execution_count": 1,
   "id": "9ae75f42-25c1-4b06-82dc-108a5fd65b49",
   "metadata": {},
   "outputs": [],
   "source": [
    "import mindspore as ms\n",
    "from IPython.core.interactiveshell import InteractiveShell\n",
    "InteractiveShell.ast_node_interactivity = \"all\"\n",
    "\n",
    "import numpy as np"
   ]
  },
  {
   "cell_type": "code",
   "execution_count": 2,
   "id": "fb9a5c42-b1b2-4715-b312-6c71f414fc82",
   "metadata": {},
   "outputs": [],
   "source": [
    "array = np.asarray([[1,2],[3,4]])"
   ]
  },
  {
   "cell_type": "code",
   "execution_count": 3,
   "id": "3b0d4291-e69d-485f-8212-5914ebe3bae4",
   "metadata": {},
   "outputs": [],
   "source": [
    "x = ms.Tensor(array, ms.dtype.int32)"
   ]
  },
  {
   "cell_type": "code",
   "execution_count": 4,
   "id": "3a36b851-0867-46c5-9a05-0f04f88ac8ea",
   "metadata": {},
   "outputs": [
    {
     "name": "stdout",
     "output_type": "stream",
     "text": [
      "[[1 2]\n",
      " [3 4]]\n"
     ]
    }
   ],
   "source": [
    "print(x)"
   ]
  },
  {
   "cell_type": "code",
   "execution_count": 6,
   "id": "a993ecf9-7e96-493b-861f-e3af6fd4ccc2",
   "metadata": {},
   "outputs": [
    {
     "name": "stdout",
     "output_type": "stream",
     "text": [
      "First row: [0. 1.]\n",
      "First column: [0. 2.]\n",
      "Last column: [1. 3.]\n"
     ]
    }
   ],
   "source": [
    "tensor = ms.Tensor(np.array([[0, 1], [2, 3]]).astype(np.float32))\n",
    "print(\"First row: {}\".format(tensor[0]))\n",
    "print(\"First column: {}\".format(tensor[:, 0]))\n",
    "print(\"Last column: {}\".format(tensor[..., -1]))"
   ]
  },
  {
   "cell_type": "code",
   "execution_count": 9,
   "id": "1fd223c8-2754-441c-90c1-24339d8fb141",
   "metadata": {},
   "outputs": [
    {
     "name": "stdout",
     "output_type": "stream",
     "text": [
      "[[[0. 1.]\n",
      "  [2. 3.]]\n",
      "\n",
      " [[4. 5.]\n",
      "  [6. 7.]]]\n",
      "(2, 2) (2, 2, 2)\n"
     ]
    }
   ],
   "source": [
    "data1 = ms.Tensor(np.array([[0, 1], [2, 3]]).astype(np.float32))\n",
    "data2 = ms.Tensor(np.array([[4, 5], [6, 7]]).astype(np.float32))\n",
    "op = ms.ops.Stack()\n",
    "output = op([data1, data2])\n",
    "print(output)\n",
    "print(data1.shape, output.shape)\n"
   ]
  },
  {
   "cell_type": "code",
   "execution_count": 8,
   "id": "ce1e8acd-dc68-4c2b-a813-8408972b0be7",
   "metadata": {},
   "outputs": [
    {
     "data": {
      "text/plain": [
       "(2, 2, 2)"
      ]
     },
     "execution_count": 8,
     "metadata": {},
     "output_type": "execute_result"
    }
   ],
   "source": [
    "output.shape"
   ]
  },
  {
   "cell_type": "code",
   "execution_count": null,
   "id": "82075ebc-a451-4e1f-ae31-658d30946de3",
   "metadata": {},
   "outputs": [],
   "source": []
  }
 ],
 "metadata": {
  "kernelspec": {
   "display_name": "Python 3 (ipykernel)",
   "language": "python",
   "name": "python3"
  },
  "language_info": {
   "codemirror_mode": {
    "name": "ipython",
    "version": 3
   },
   "file_extension": ".py",
   "mimetype": "text/x-python",
   "name": "python",
   "nbconvert_exporter": "python",
   "pygments_lexer": "ipython3",
   "version": "3.9.18"
  }
 },
 "nbformat": 4,
 "nbformat_minor": 5
}
